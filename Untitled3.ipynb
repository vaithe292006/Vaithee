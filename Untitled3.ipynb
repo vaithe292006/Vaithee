{
  "nbformat": 4,
  "nbformat_minor": 0,
  "metadata": {
    "colab": {
      "provenance": [],
      "authorship_tag": "ABX9TyO9o8X1v6sLNwSyB4bm8okW",
      "include_colab_link": true
    },
    "kernelspec": {
      "name": "python3",
      "display_name": "Python 3"
    },
    "language_info": {
      "name": "python"
    }
  },
  "cells": [
    {
      "cell_type": "markdown",
      "metadata": {
        "id": "view-in-github",
        "colab_type": "text"
      },
      "source": [
        "<a href=\"https://colab.research.google.com/github/vaithe292006/Vaithee/blob/main/Untitled3.ipynb\" target=\"_parent\"><img src=\"https://colab.research.google.com/assets/colab-badge.svg\" alt=\"Open In Colab\"/></a>"
      ]
    },
    {
      "cell_type": "code",
      "execution_count": 1,
      "metadata": {
        "colab": {
          "base_uri": "https://localhost:8080/"
        },
        "id": "jt4cZt-64pY8",
        "outputId": "869d489b-2aea-40fe-f414-c397b864dbf4"
      },
      "outputs": [
        {
          "output_type": "stream",
          "name": "stdout",
          "text": [
            "  race/ethnicity parental level of education         lunch  \\\n",
            "0        group B           bachelor's degree      standard   \n",
            "1        group C                some college      standard   \n",
            "2        group B             master's degree      standard   \n",
            "3        group A          associate's degree  free/reduced   \n",
            "4        group C                some college      standard   \n",
            "\n",
            "  test preparation course  math score  reading score  writing score  \\\n",
            "0                    none          72             72             74   \n",
            "1               completed          69             90             88   \n",
            "2                    none          90             95             93   \n",
            "3                    none          47             57             44   \n",
            "4                    none          76             78             75   \n",
            "\n",
            "   Total score  gender_female  gender_male  \n",
            "0          218           True        False  \n",
            "1          247           True        False  \n",
            "2          278           True        False  \n",
            "3          148          False         True  \n",
            "4          229          False         True  \n",
            "Encoded DataFrame:\n",
            "  race/ethnicity parental level of education         lunch  \\\n",
            "0        group B           bachelor's degree      standard   \n",
            "1        group C                some college      standard   \n",
            "2        group B             master's degree      standard   \n",
            "3        group A          associate's degree  free/reduced   \n",
            "4        group C                some college      standard   \n",
            "\n",
            "  test preparation course  math score  reading score  writing score  \\\n",
            "0                    none          72             72             74   \n",
            "1               completed          69             90             88   \n",
            "2                    none          90             95             93   \n",
            "3                    none          47             57             44   \n",
            "4                    none          76             78             75   \n",
            "\n",
            "   Total score  gender_female  gender_male  \n",
            "0          218           True        False  \n",
            "1          247           True        False  \n",
            "2          278           True        False  \n",
            "3          148          False         True  \n",
            "4          229          False         True  \n"
          ]
        }
      ],
      "source": [
        "import pandas as pd\n",
        "\n",
        "# Step 1: Csv load pannrom\n",
        "df=pd.read_csv(\"/content/StudentsPerformance.csv\")\n",
        "\n",
        "# Step 2: One hot encoding for \"gender\"\n",
        "df_encoded = pd.get_dummies(df,columns=[\"gender\"])\n",
        "\n",
        "# Step 3:Top 5rows prints pannrom\n",
        "print(df_encoded.head())\n",
        "\n",
        "print(\"Encoded DataFrame:\")\n",
        "print(df_encoded.head())"
      ]
    }
  ]
}