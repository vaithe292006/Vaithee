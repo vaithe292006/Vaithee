{
  "nbformat": 4,
  "nbformat_minor": 0,
  "metadata": {
    "colab": {
      "provenance": [],
      "authorship_tag": "ABX9TyM/glioMbAO/e31600KsjAK",
      "include_colab_link": true
    },
    "kernelspec": {
      "name": "python3",
      "display_name": "Python 3"
    },
    "language_info": {
      "name": "python"
    }
  },
  "cells": [
    {
      "cell_type": "markdown",
      "metadata": {
        "id": "view-in-github",
        "colab_type": "text"
      },
      "source": [
        "<a href=\"https://colab.research.google.com/github/vaithe292006/Vaithee/blob/main/Untitled36.ipynb\" target=\"_parent\"><img src=\"https://colab.research.google.com/assets/colab-badge.svg\" alt=\"Open In Colab\"/></a>"
      ]
    },
    {
      "cell_type": "code",
      "execution_count": 3,
      "metadata": {
        "colab": {
          "base_uri": "https://localhost:8080/"
        },
        "id": "wn9ts3RxdJ8n",
        "outputId": "36a59e38-9502-4233-8c00-d114392200e9"
      },
      "outputs": [
        {
          "output_type": "stream",
          "name": "stdout",
          "text": [
            "Files in the zip file: ['Maths.csv', 'Portuguese.csv']\n",
            "An error occurred: [Errno 21] Is a directory: '/content'\n"
          ]
        }
      ],
      "source": [
        "import pandas as pd\n",
        "import zipfile\n",
        "\n",
        "# Load dataset\n",
        "zip_file_path = \"/content/student performance.zip\"\n",
        "\n",
        "# Inspect the contents of the zip file\n",
        "with zipfile.ZipFile(zip_file_path, 'r') as zip_ref:\n",
        "    file_list = zip_ref.namelist()\n",
        "    print(\"Files in the zip file:\", file_list)\n",
        "\n",
        "# Assuming you want to read 'Maths.csv' from the zip file\n",
        "# If you want to read 'Portuguese.csv', change the filename accordingly\n",
        "file_to_read = 'Maths.csv' # Change this to 'Portuguese.csv' if needed\n",
        "\n",
        "# Load the specified CSV from the zip file\n",
        "try:\n",
        "    df = pd.read_csv(f\"zip://{zip_file_path}!{file_to_read}\")\n",
        "\n",
        "    # view first few rows\n",
        "    print(df.head())\n",
        "\n",
        "    # 1. Check missing values\n",
        "    print(\"Missing values:\\n\", df.isnull().sum())\n",
        "\n",
        "    # 2. Fill missing values in 'math score' if any\n",
        "    # Check if 'math score' column exists before filling missing values\n",
        "    if 'math score' in df.columns:\n",
        "        df[\"math score\"].fillna(df[\"math score\"].mean(), inplace=True)\n",
        "    else:\n",
        "        print(\"Warning: 'math score' column not found. Skipping filling missing values for this column.\")\n",
        "\n",
        "    # 3. Remove duplicates\n",
        "    df.drop_duplicates(inplace=True)\n",
        "\n",
        "    # 4. Drop rows with any remaining missing values\n",
        "    df.dropna(inplace=True)\n",
        "\n",
        "    # 5. Print cleaned dataset shape\n",
        "    print(\"Final dataset shape:\", df.shape)\n",
        "\n",
        "except FileNotFoundError:\n",
        "    print(f\"Error: The file '{file_to_read}' was not found in the zip archive.\")\n",
        "except Exception as e:\n",
        "    print(f\"An error occurred: {e}\")"
      ]
    }
  ]
}