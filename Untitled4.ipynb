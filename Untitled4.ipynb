{
  "nbformat": 4,
  "nbformat_minor": 0,
  "metadata": {
    "colab": {
      "provenance": [],
      "authorship_tag": "ABX9TyNd/zHR9oMWtwltEVIed8oh",
      "include_colab_link": true
    },
    "kernelspec": {
      "name": "python3",
      "display_name": "Python 3"
    },
    "language_info": {
      "name": "python"
    }
  },
  "cells": [
    {
      "cell_type": "markdown",
      "metadata": {
        "id": "view-in-github",
        "colab_type": "text"
      },
      "source": [
        "<a href=\"https://colab.research.google.com/github/vaithe292006/Vaithee/blob/main/Untitled4.ipynb\" target=\"_parent\"><img src=\"https://colab.research.google.com/assets/colab-badge.svg\" alt=\"Open In Colab\"/></a>"
      ]
    },
    {
      "cell_type": "code",
      "execution_count": 3,
      "metadata": {
        "colab": {
          "base_uri": "https://localhost:8080/"
        },
        "id": "1p_IZnN149Lc",
        "outputId": "bd37081a-ea82-4e68-aeb9-8466c559f8af"
      },
      "outputs": [
        {
          "output_type": "stream",
          "name": "stdout",
          "text": [
            "Mean Squared Error: 292184.075967863\n"
          ]
        }
      ],
      "source": [
        "from sklearn.linear_model import LinearRegression\n",
        "from sklearn.model_selection import train_test_split\n",
        "from sklearn.metrics import mean_squared_error\n",
        "import pandas as pd\n",
        "\n",
        "# Sample dataset\n",
        "data={\n",
        "    'Experince':[1,2,3,4.5,],\n",
        "    'Salary':[20000,30000,40000,50000] # Removed the last element\n",
        "}\n",
        "df=pd.DataFrame(data)\n",
        "\n",
        "x=df[['Experince']]\n",
        "y=df['Salary']\n",
        "\n",
        "# Step 1: Split data\n",
        "x_train,x_test,y_train,y_test=train_test_split(x,y,test_size=0.2)\n",
        "\n",
        "# Step 2:Create model\n",
        "model = LinearRegression()\n",
        "\n",
        "# Step 3: Train\n",
        "model.fit(x_train,y_train)\n",
        "\n",
        "# Step 4: Predict\n",
        "prediction=model.predict(x_test)\n",
        "\n",
        "# Step 4: Evaluate\n",
        "mse=mean_squared_error(y_test,prediction)\n",
        "print(\"Mean Squared Error:\",mse)"
      ]
    }
  ]
}